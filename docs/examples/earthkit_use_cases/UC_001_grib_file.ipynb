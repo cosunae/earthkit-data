{
 "cells": [
  {
   "cell_type": "code",
   "execution_count": 1,
   "id": "70fbad71-8e6d-4829-85c8-8faa7af4e28c",
   "metadata": {},
   "outputs": [],
   "source": [
    "!test -f tz_1000.grib || wget https://get.ecmwf.int/repository/test-data/fieldlist/examples/tz_1000.grib"
   ]
  },
  {
   "cell_type": "markdown",
   "id": "4019a818-d8de-47b3-929f-333e54cce1df",
   "metadata": {},
   "source": [
    "### Use case: interpolate, compute and plot mean from GRIB file input"
   ]
  },
  {
   "cell_type": "markdown",
   "id": "18ddca73-53f3-4bc4-82b8-67611dde2237",
   "metadata": {},
   "source": [
    "Demonstrates the following workflow with the available earthkit components:\n",
    "- read GRIB data with multiple parameters from a file\n",
    "- filter temperature on a pressure level\n",
    "- interpolate it onto another (lat-lon) grid and area\n",
    "- compute the mean as an ndarray\n",
    "- generate a plot for the mean\n",
    "\n",
    "All of it is done by using an iteration and keeping only one GRIB field in memory at a time. No data is written to disk."
   ]
  },
  {
   "cell_type": "code",
   "execution_count": 2,
   "id": "bca94166-30fe-4d0c-a825-1fa02152c045",
   "metadata": {},
   "outputs": [],
   "source": [
    "import io\n",
    "import matplotlib.pyplot as plt\n",
    "import numpy as np\n",
    "import mir\n",
    "import emohawk\n",
    "\n",
    "fs = emohawk.load_from(\"file\", \"tz_1000.grib\")"
   ]
  },
  {
   "cell_type": "code",
   "execution_count": 3,
   "id": "8a525e2b-821d-4a23-b2ed-467038902a33",
   "metadata": {},
   "outputs": [],
   "source": [
    "# define the interpolation job\n",
    "job = mir.Job(grid='0.2/0.2', area='70/-30/20/70')"
   ]
  },
  {
   "cell_type": "code",
   "execution_count": 4,
   "id": "221d6cc6-9507-413d-8697-0c63c3d26963",
   "metadata": {},
   "outputs": [
    {
     "ename": "NameError",
     "evalue": "name 'data' is not defined",
     "output_type": "error",
     "traceback": [
      "\u001b[0;31m---------------------------------------------------------------------------\u001b[0m",
      "\u001b[0;31mNameError\u001b[0m                                 Traceback (most recent call last)",
      "Cell \u001b[0;32mIn[4], line 11\u001b[0m\n\u001b[1;32m      9\u001b[0m data_in \u001b[38;5;241m=\u001b[39m mir\u001b[38;5;241m.\u001b[39mGribMemoryInput(f\u001b[38;5;241m.\u001b[39mmessage())\n\u001b[1;32m     10\u001b[0m data_out \u001b[38;5;241m=\u001b[39m io\u001b[38;5;241m.\u001b[39mBytesIO()\n\u001b[0;32m---> 11\u001b[0m job\u001b[38;5;241m.\u001b[39mexecute(mir\u001b[38;5;241m.\u001b[39mGribMemoryInput(\u001b[43mdata\u001b[49m), data_out)\n\u001b[1;32m     13\u001b[0m \u001b[38;5;66;03m# load the resulting GRIB message into emohawk\u001b[39;00m\n\u001b[1;32m     14\u001b[0m g \u001b[38;5;241m=\u001b[39m emohawk\u001b[38;5;241m.\u001b[39mload_from(\u001b[38;5;124m\"\u001b[39m\u001b[38;5;124mmemory\u001b[39m\u001b[38;5;124m\"\u001b[39m, data_out\u001b[38;5;241m.\u001b[39mgetvalue())[\u001b[38;5;241m0\u001b[39m]\n",
      "\u001b[0;31mNameError\u001b[0m: name 'data' is not defined"
     ]
    }
   ],
   "source": [
    "res = None\n",
    "num = 0\n",
    "\n",
    "# note: sel() first iterates through the messages and returns a\n",
    "# view to the ones matching the conditions\n",
    "for f in fs.sel(param=\"t\", level=1000):\n",
    "    # interpolate - \n",
    "    # the input is a GRIB message in memory\n",
    "    # the output is a GRIB message in memory stored in a BytesIO object\n",
    "    data_in = mir.GribMemoryInput(f.message())\n",
    "    data_out = io.BytesIO()\n",
    "    job.execute(data_in, data_out)\n",
    "   \n",
    "    # load the resulting GRIB message into emohawk\n",
    "    g = emohawk.load_from(\"memory\", data_out.getvalue())[0]\n",
    "    \n",
    "    if res is None:\n",
    "        # start accumulation\n",
    "        res = g.to_numpy()\n",
    "        \n",
    "        # get metadata for plotting\n",
    "        lat, lon = g.metadata([\"latitudes\", \"longitudes\"])\n",
    "    else:\n",
    "        # accumulation\n",
    "        res += g.to_numpy()\n",
    "        \n",
    "    num += 1"
   ]
  },
  {
   "cell_type": "markdown",
   "id": "83078511-15c6-400b-a424-410d0f8d3b51",
   "metadata": {},
   "source": [
    "Compute mean."
   ]
  },
  {
   "cell_type": "code",
   "execution_count": null,
   "id": "8fb3b19e-4184-4f32-a485-dbd7ceb62253",
   "metadata": {},
   "outputs": [],
   "source": [
    "res /= num  \n",
    "print(f\"num={num}\")\n",
    "print(res)"
   ]
  },
  {
   "cell_type": "markdown",
   "id": "a1d85be5-c19a-4e09-8257-f9ec9730c377",
   "metadata": {},
   "source": [
    "Scale result for plotting."
   ]
  },
  {
   "cell_type": "code",
   "execution_count": null,
   "id": "fe08ab4e-28f1-4fda-ad25-8fac4c5f13e4",
   "metadata": {},
   "outputs": [],
   "source": [
    "res -= 273.16"
   ]
  },
  {
   "cell_type": "markdown",
   "id": "983d4918-7ad5-4f2c-88b2-23ffda4a8ffa",
   "metadata": {},
   "source": [
    "Generates a plot."
   ]
  },
  {
   "cell_type": "code",
   "execution_count": null,
   "id": "a5f18e32-61d0-4cff-95d8-6e666125191f",
   "metadata": {},
   "outputs": [],
   "source": [
    "fig, ax = plt.subplots()\n",
    "tcf = ax.tricontourf(lon, lat, res, vmin=-20, vmax=36, levels=56, cmap=\"plasma\")\n",
    "fig.colorbar(tcf)\n",
    "plt.show()"
   ]
  },
  {
   "cell_type": "code",
   "execution_count": null,
   "id": "214effcc-883d-4a0c-aeed-53c818ad2775",
   "metadata": {},
   "outputs": [],
   "source": []
  }
 ],
 "metadata": {
  "kernelspec": {
   "display_name": "mpy38",
   "language": "python",
   "name": "mpy38"
  },
  "language_info": {
   "codemirror_mode": {
    "name": "ipython",
    "version": 3
   },
   "file_extension": ".py",
   "mimetype": "text/x-python",
   "name": "python",
   "nbconvert_exporter": "python",
   "pygments_lexer": "ipython3",
   "version": "3.8.16"
  }
 },
 "nbformat": 4,
 "nbformat_minor": 5
}
