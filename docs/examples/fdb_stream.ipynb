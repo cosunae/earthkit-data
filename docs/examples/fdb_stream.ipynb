{
 "cells": [
  {
   "cell_type": "code",
   "execution_count": 1,
   "id": "490087a7",
   "metadata": {},
   "outputs": [],
   "source": [
    "import pyfdb \n",
    "import emohawk"
   ]
  },
  {
   "cell_type": "markdown",
   "id": "533d8932",
   "metadata": {},
   "source": [
    "<div class=\"alert alert-block alert-warning\">\n",
    "To run this scirpt FDB access is needed and the <b>FDB_HOME</b> environment variable has to be set correctly.\n",
    "</div>"
   ]
  },
  {
   "cell_type": "code",
   "execution_count": null,
   "id": "8e20e19c",
   "metadata": {},
   "outputs": [],
   "source": [
    "request = {\n",
    "    'class': 'od',\n",
    "    'expver': '0001',\n",
    "    'stream': 'oper',\n",
    "    'date': '20221207',\n",
    "    'time': '0000',\n",
    "    'domain': 'g',\n",
    "    'type': 'an',\n",
    "    'levtype': 'sfc',\n",
    "    'step': 0,\n",
    "    'param': [151, 167]\n",
    "}\n",
    "\n",
    "# Must be set correctly\n",
    "%env FDB_HOME=\n",
    "\n",
    "fdb = pyfdb.FDB()"
   ]
  },
  {
   "cell_type": "markdown",
   "id": "c31f24b2",
   "metadata": {},
   "source": [
    "#### Using iteration only"
   ]
  },
  {
   "cell_type": "code",
   "execution_count": 3,
   "id": "15dd6c9d",
   "metadata": {},
   "outputs": [
    {
     "data": {
      "text/plain": [
       "fieldlist.sources.stream_iter.GribStreamIteratorSource"
      ]
     },
     "execution_count": 3,
     "metadata": {},
     "output_type": "execute_result"
    }
   ],
   "source": [
    "r = fdb.retrieve(request)\n",
    "\n",
    "fs = emohawk.load_from(\"stream-iter\", r)\n",
    "type(fs)"
   ]
  },
  {
   "cell_type": "markdown",
   "id": "55442074",
   "metadata": {},
   "source": [
    "Nothing is read at this moment."
   ]
  },
  {
   "cell_type": "markdown",
   "id": "6735a06d",
   "metadata": {},
   "source": [
    "We can only use fs for iteration. Fields crerated in the iteration get deleted when going out of scope:"
   ]
  },
  {
   "cell_type": "code",
   "execution_count": 4,
   "id": "9fcd2ba1",
   "metadata": {},
   "outputs": [
    {
     "name": "stdout",
     "output_type": "stream",
     "text": [
      "type(f)=<class 'fieldlist.readers.grib.memory.GribFieldInMemory'>\n",
      "  path=None offset=None\n",
      "  param=msl\n",
      "  shape=(6599680,) mean=101181.03346484223\n",
      "type(f)=<class 'fieldlist.readers.grib.memory.GribFieldInMemory'>\n",
      "  path=None offset=None\n",
      "  param=2t\n",
      "  shape=(6599680,) mean=287.5265971353204\n"
     ]
    }
   ],
   "source": [
    "for f in fs:\n",
    "    print(f\"type(f)={type(f)}\")\n",
    "    print(f\"  path={f.path} offset={f.offset}\")\n",
    "    print(f\"  param={f['param']}\")\n",
    "    print(f\"  shape={f.values.shape} mean={f.values.mean()}\")"
   ]
  },
  {
   "cell_type": "markdown",
   "id": "b7a6e8b0",
   "metadata": {},
   "source": [
    "Once the iteration is completed, there is nothing left in fs."
   ]
  },
  {
   "cell_type": "code",
   "execution_count": 5,
   "id": "d353d332",
   "metadata": {},
   "outputs": [],
   "source": [
    "for f in fs:\n",
    "    print(f\"type(f)={type(f)}\")"
   ]
  },
  {
   "cell_type": "markdown",
   "id": "f8665e53",
   "metadata": {},
   "source": [
    "#### Storing all the fields in memory"
   ]
  },
  {
   "cell_type": "code",
   "execution_count": 6,
   "id": "0e3053bd",
   "metadata": {},
   "outputs": [
    {
     "data": {
      "text/plain": [
       "fieldlist.sources.stream.GribStream"
      ]
     },
     "execution_count": 6,
     "metadata": {},
     "output_type": "execute_result"
    }
   ],
   "source": [
    "r = fdb.retrieve(request)\n",
    "\n",
    "fs = emohawk.load_from(\"stream\", r)\n",
    "type(fs)"
   ]
  },
  {
   "cell_type": "markdown",
   "id": "5688d0f7",
   "metadata": {},
   "source": [
    "Nothing is read at this moment:"
   ]
  },
  {
   "cell_type": "code",
   "execution_count": 7,
   "id": "70a6274b",
   "metadata": {},
   "outputs": [
    {
     "name": "stdout",
     "output_type": "stream",
     "text": [
      "stored fields count=0\n"
     ]
    }
   ],
   "source": [
    "print(f\"stored fields count={len(fs._reader._fields)}\")"
   ]
  },
  {
   "cell_type": "markdown",
   "id": "6c1323b6",
   "metadata": {},
   "source": [
    "If we call any function on the fieldlist it reads the messages into memory"
   ]
  },
  {
   "cell_type": "code",
   "execution_count": 8,
   "id": "1d529e19",
   "metadata": {},
   "outputs": [
    {
     "data": {
      "text/plain": [
       "2"
      ]
     },
     "execution_count": 8,
     "metadata": {},
     "output_type": "execute_result"
    }
   ],
   "source": [
    "len(fs)"
   ]
  },
  {
   "cell_type": "code",
   "execution_count": 9,
   "id": "98ef78d8",
   "metadata": {},
   "outputs": [
    {
     "name": "stdout",
     "output_type": "stream",
     "text": [
      "stored fields count=2\n"
     ]
    }
   ],
   "source": [
    "print(f\"stored fields count={len(fs._reader._fields)}\")"
   ]
  },
  {
   "cell_type": "code",
   "execution_count": 10,
   "id": "3423c333",
   "metadata": {},
   "outputs": [
    {
     "data": {
      "text/html": [
       "<div>\n",
       "<style scoped>\n",
       "    .dataframe tbody tr th:only-of-type {\n",
       "        vertical-align: middle;\n",
       "    }\n",
       "\n",
       "    .dataframe tbody tr th {\n",
       "        vertical-align: top;\n",
       "    }\n",
       "\n",
       "    .dataframe thead th {\n",
       "        text-align: right;\n",
       "    }\n",
       "</style>\n",
       "<table border=\"1\" class=\"dataframe\">\n",
       "  <thead>\n",
       "    <tr style=\"text-align: right;\">\n",
       "      <th></th>\n",
       "      <th>centre</th>\n",
       "      <th>shortName</th>\n",
       "      <th>typeOfLevel</th>\n",
       "      <th>level</th>\n",
       "      <th>dataDate</th>\n",
       "      <th>dataTime</th>\n",
       "      <th>stepRange</th>\n",
       "      <th>dataType</th>\n",
       "      <th>number</th>\n",
       "      <th>gridType</th>\n",
       "    </tr>\n",
       "  </thead>\n",
       "  <tbody>\n",
       "    <tr>\n",
       "      <th>0</th>\n",
       "      <td>ecmf</td>\n",
       "      <td>msl</td>\n",
       "      <td>surface</td>\n",
       "      <td>0</td>\n",
       "      <td>20221207</td>\n",
       "      <td>0</td>\n",
       "      <td>0</td>\n",
       "      <td>an</td>\n",
       "      <td>0</td>\n",
       "      <td>reduced_gg</td>\n",
       "    </tr>\n",
       "    <tr>\n",
       "      <th>1</th>\n",
       "      <td>ecmf</td>\n",
       "      <td>2t</td>\n",
       "      <td>surface</td>\n",
       "      <td>0</td>\n",
       "      <td>20221207</td>\n",
       "      <td>0</td>\n",
       "      <td>0</td>\n",
       "      <td>an</td>\n",
       "      <td>0</td>\n",
       "      <td>reduced_gg</td>\n",
       "    </tr>\n",
       "  </tbody>\n",
       "</table>\n",
       "</div>"
      ],
      "text/plain": [
       "  centre shortName typeOfLevel  level  dataDate  dataTime stepRange dataType  \\\n",
       "0   ecmf       msl     surface      0  20221207         0         0       an   \n",
       "1   ecmf        2t     surface      0  20221207         0         0       an   \n",
       "\n",
       "   number    gridType  \n",
       "0       0  reduced_gg  \n",
       "1       0  reduced_gg  "
      ]
     },
     "execution_count": 10,
     "metadata": {},
     "output_type": "execute_result"
    }
   ],
   "source": [
    "fs.ls()"
   ]
  },
  {
   "cell_type": "code",
   "execution_count": 11,
   "id": "9e41a159",
   "metadata": {},
   "outputs": [
    {
     "name": "stdout",
     "output_type": "stream",
     "text": [
      "<class 'fieldlist.readers.grib.index.MaskFieldSet'>\n"
     ]
    }
   ],
   "source": [
    "a = fs.sel(param=\"2t\")\n",
    "print(type(a))"
   ]
  },
  {
   "cell_type": "code",
   "execution_count": 12,
   "id": "de8ba5d9",
   "metadata": {},
   "outputs": [
    {
     "data": {
      "text/html": [
       "<div>\n",
       "<style scoped>\n",
       "    .dataframe tbody tr th:only-of-type {\n",
       "        vertical-align: middle;\n",
       "    }\n",
       "\n",
       "    .dataframe tbody tr th {\n",
       "        vertical-align: top;\n",
       "    }\n",
       "\n",
       "    .dataframe thead th {\n",
       "        text-align: right;\n",
       "    }\n",
       "</style>\n",
       "<table border=\"1\" class=\"dataframe\">\n",
       "  <thead>\n",
       "    <tr style=\"text-align: right;\">\n",
       "      <th></th>\n",
       "      <th>centre</th>\n",
       "      <th>shortName</th>\n",
       "      <th>typeOfLevel</th>\n",
       "      <th>level</th>\n",
       "      <th>dataDate</th>\n",
       "      <th>dataTime</th>\n",
       "      <th>stepRange</th>\n",
       "      <th>dataType</th>\n",
       "      <th>number</th>\n",
       "      <th>gridType</th>\n",
       "    </tr>\n",
       "  </thead>\n",
       "  <tbody>\n",
       "    <tr>\n",
       "      <th>0</th>\n",
       "      <td>ecmf</td>\n",
       "      <td>2t</td>\n",
       "      <td>surface</td>\n",
       "      <td>0</td>\n",
       "      <td>20221207</td>\n",
       "      <td>0</td>\n",
       "      <td>0</td>\n",
       "      <td>an</td>\n",
       "      <td>0</td>\n",
       "      <td>reduced_gg</td>\n",
       "    </tr>\n",
       "  </tbody>\n",
       "</table>\n",
       "</div>"
      ],
      "text/plain": [
       "  centre shortName typeOfLevel  level  dataDate  dataTime stepRange dataType  \\\n",
       "0   ecmf        2t     surface      0  20221207         0         0       an   \n",
       "\n",
       "   number    gridType  \n",
       "0       0  reduced_gg  "
      ]
     },
     "execution_count": 12,
     "metadata": {},
     "output_type": "execute_result"
    }
   ],
   "source": [
    "a.ls()"
   ]
  },
  {
   "cell_type": "code",
   "execution_count": null,
   "id": "d2f5cd7c",
   "metadata": {},
   "outputs": [],
   "source": [
    "fs.to_xarray()"
   ]
  }
 ],
 "metadata": {
  "kernelspec": {
   "display_name": "mpy38",
   "language": "python",
   "name": "mpy38"
  },
  "language_info": {
   "codemirror_mode": {
    "name": "ipython",
    "version": 3
   },
   "file_extension": ".py",
   "mimetype": "text/x-python",
   "name": "python",
   "nbconvert_exporter": "python",
   "pygments_lexer": "ipython3",
   "version": "3.8.16"
  }
 },
 "nbformat": 4,
 "nbformat_minor": 5
}
