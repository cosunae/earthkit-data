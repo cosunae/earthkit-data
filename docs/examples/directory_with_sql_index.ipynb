{
 "cells": [
  {
   "cell_type": "code",
   "execution_count": 1,
   "metadata": {},
   "outputs": [],
   "source": [
    "!test -f test.grib || wget https://github.com/ecmwf/emohawk/raw/main/docs/examples/test.grib\n",
    "!test -f tuv_pl.grib || wget https://github.com/ecmwf/emohawk/raw/main/docs/examples/tuv_pl.grib\n",
    "!test -d _grib_dir_with_sql || (mkdir -p _grib_dir_with_sql; cp -f test.grib tuv_pl.grib _grib_dir_with_sql/)"
   ]
  },
  {
   "cell_type": "markdown",
   "metadata": {},
   "source": [
    "Loads directory contents and generates indexing stored in a sqlite database:"
   ]
  },
  {
   "cell_type": "code",
   "execution_count": 2,
   "metadata": {},
   "outputs": [
    {
     "data": {
      "text/plain": [
       "emohawk.readers.grib.index.FieldsetInFilesWithSqlIndex"
      ]
     },
     "execution_count": 2,
     "metadata": {},
     "output_type": "execute_result"
    }
   ],
   "source": [
    "import emohawk\n",
    "\n",
    "fs = emohawk.load_from(\"directory\", \"./_grib_dir_with_sql\")\n",
    "type(fs)"
   ]
  },
  {
   "cell_type": "markdown",
   "metadata": {},
   "source": []
  },
  {
   "cell_type": "code",
   "execution_count": 3,
   "metadata": {},
   "outputs": [
    {
     "data": {
      "text/plain": [
       "20"
      ]
     },
     "execution_count": 3,
     "metadata": {},
     "output_type": "execute_result"
    }
   ],
   "source": [
    "len(fs)"
   ]
  },
  {
   "cell_type": "code",
   "execution_count": 4,
   "metadata": {},
   "outputs": [
    {
     "name": "stdout",
     "output_type": "stream",
     "text": [
      " <emohawk.readers.grib.index.FieldsetInFilesWithSqlIndex object at 0x11b914df0>\n"
     ]
    }
   ],
   "source": [
    "fs.graph()"
   ]
  },
  {
   "cell_type": "code",
   "execution_count": 5,
   "metadata": {},
   "outputs": [
    {
     "data": {
      "text/html": [
       "<div>\n",
       "<style scoped>\n",
       "    .dataframe tbody tr th:only-of-type {\n",
       "        vertical-align: middle;\n",
       "    }\n",
       "\n",
       "    .dataframe tbody tr th {\n",
       "        vertical-align: top;\n",
       "    }\n",
       "\n",
       "    .dataframe thead th {\n",
       "        text-align: right;\n",
       "    }\n",
       "</style>\n",
       "<table border=\"1\" class=\"dataframe\">\n",
       "  <thead>\n",
       "    <tr style=\"text-align: right;\">\n",
       "      <th></th>\n",
       "      <th>centre</th>\n",
       "      <th>shortName</th>\n",
       "      <th>typeOfLevel</th>\n",
       "      <th>level</th>\n",
       "      <th>dataDate</th>\n",
       "      <th>dataTime</th>\n",
       "      <th>stepRange</th>\n",
       "      <th>dataType</th>\n",
       "      <th>number</th>\n",
       "      <th>gridType</th>\n",
       "    </tr>\n",
       "  </thead>\n",
       "  <tbody>\n",
       "    <tr>\n",
       "      <th>0</th>\n",
       "      <td>ecmf</td>\n",
       "      <td>t</td>\n",
       "      <td>isobaricInhPa</td>\n",
       "      <td>1000</td>\n",
       "      <td>20180801</td>\n",
       "      <td>1200</td>\n",
       "      <td>0</td>\n",
       "      <td>an</td>\n",
       "      <td>0</td>\n",
       "      <td>regular_ll</td>\n",
       "    </tr>\n",
       "    <tr>\n",
       "      <th>1</th>\n",
       "      <td>ecmf</td>\n",
       "      <td>u</td>\n",
       "      <td>isobaricInhPa</td>\n",
       "      <td>1000</td>\n",
       "      <td>20180801</td>\n",
       "      <td>1200</td>\n",
       "      <td>0</td>\n",
       "      <td>an</td>\n",
       "      <td>0</td>\n",
       "      <td>regular_ll</td>\n",
       "    </tr>\n",
       "    <tr>\n",
       "      <th>2</th>\n",
       "      <td>ecmf</td>\n",
       "      <td>v</td>\n",
       "      <td>isobaricInhPa</td>\n",
       "      <td>1000</td>\n",
       "      <td>20180801</td>\n",
       "      <td>1200</td>\n",
       "      <td>0</td>\n",
       "      <td>an</td>\n",
       "      <td>0</td>\n",
       "      <td>regular_ll</td>\n",
       "    </tr>\n",
       "    <tr>\n",
       "      <th>3</th>\n",
       "      <td>ecmf</td>\n",
       "      <td>t</td>\n",
       "      <td>isobaricInhPa</td>\n",
       "      <td>850</td>\n",
       "      <td>20180801</td>\n",
       "      <td>1200</td>\n",
       "      <td>0</td>\n",
       "      <td>an</td>\n",
       "      <td>0</td>\n",
       "      <td>regular_ll</td>\n",
       "    </tr>\n",
       "    <tr>\n",
       "      <th>4</th>\n",
       "      <td>ecmf</td>\n",
       "      <td>u</td>\n",
       "      <td>isobaricInhPa</td>\n",
       "      <td>850</td>\n",
       "      <td>20180801</td>\n",
       "      <td>1200</td>\n",
       "      <td>0</td>\n",
       "      <td>an</td>\n",
       "      <td>0</td>\n",
       "      <td>regular_ll</td>\n",
       "    </tr>\n",
       "    <tr>\n",
       "      <th>5</th>\n",
       "      <td>ecmf</td>\n",
       "      <td>v</td>\n",
       "      <td>isobaricInhPa</td>\n",
       "      <td>850</td>\n",
       "      <td>20180801</td>\n",
       "      <td>1200</td>\n",
       "      <td>0</td>\n",
       "      <td>an</td>\n",
       "      <td>0</td>\n",
       "      <td>regular_ll</td>\n",
       "    </tr>\n",
       "    <tr>\n",
       "      <th>6</th>\n",
       "      <td>ecmf</td>\n",
       "      <td>t</td>\n",
       "      <td>isobaricInhPa</td>\n",
       "      <td>700</td>\n",
       "      <td>20180801</td>\n",
       "      <td>1200</td>\n",
       "      <td>0</td>\n",
       "      <td>an</td>\n",
       "      <td>0</td>\n",
       "      <td>regular_ll</td>\n",
       "    </tr>\n",
       "    <tr>\n",
       "      <th>7</th>\n",
       "      <td>ecmf</td>\n",
       "      <td>u</td>\n",
       "      <td>isobaricInhPa</td>\n",
       "      <td>700</td>\n",
       "      <td>20180801</td>\n",
       "      <td>1200</td>\n",
       "      <td>0</td>\n",
       "      <td>an</td>\n",
       "      <td>0</td>\n",
       "      <td>regular_ll</td>\n",
       "    </tr>\n",
       "    <tr>\n",
       "      <th>8</th>\n",
       "      <td>ecmf</td>\n",
       "      <td>v</td>\n",
       "      <td>isobaricInhPa</td>\n",
       "      <td>700</td>\n",
       "      <td>20180801</td>\n",
       "      <td>1200</td>\n",
       "      <td>0</td>\n",
       "      <td>an</td>\n",
       "      <td>0</td>\n",
       "      <td>regular_ll</td>\n",
       "    </tr>\n",
       "    <tr>\n",
       "      <th>9</th>\n",
       "      <td>ecmf</td>\n",
       "      <td>t</td>\n",
       "      <td>isobaricInhPa</td>\n",
       "      <td>500</td>\n",
       "      <td>20180801</td>\n",
       "      <td>1200</td>\n",
       "      <td>0</td>\n",
       "      <td>an</td>\n",
       "      <td>0</td>\n",
       "      <td>regular_ll</td>\n",
       "    </tr>\n",
       "    <tr>\n",
       "      <th>10</th>\n",
       "      <td>ecmf</td>\n",
       "      <td>u</td>\n",
       "      <td>isobaricInhPa</td>\n",
       "      <td>500</td>\n",
       "      <td>20180801</td>\n",
       "      <td>1200</td>\n",
       "      <td>0</td>\n",
       "      <td>an</td>\n",
       "      <td>0</td>\n",
       "      <td>regular_ll</td>\n",
       "    </tr>\n",
       "    <tr>\n",
       "      <th>11</th>\n",
       "      <td>ecmf</td>\n",
       "      <td>v</td>\n",
       "      <td>isobaricInhPa</td>\n",
       "      <td>500</td>\n",
       "      <td>20180801</td>\n",
       "      <td>1200</td>\n",
       "      <td>0</td>\n",
       "      <td>an</td>\n",
       "      <td>0</td>\n",
       "      <td>regular_ll</td>\n",
       "    </tr>\n",
       "    <tr>\n",
       "      <th>12</th>\n",
       "      <td>ecmf</td>\n",
       "      <td>t</td>\n",
       "      <td>isobaricInhPa</td>\n",
       "      <td>400</td>\n",
       "      <td>20180801</td>\n",
       "      <td>1200</td>\n",
       "      <td>0</td>\n",
       "      <td>an</td>\n",
       "      <td>0</td>\n",
       "      <td>regular_ll</td>\n",
       "    </tr>\n",
       "    <tr>\n",
       "      <th>13</th>\n",
       "      <td>ecmf</td>\n",
       "      <td>u</td>\n",
       "      <td>isobaricInhPa</td>\n",
       "      <td>400</td>\n",
       "      <td>20180801</td>\n",
       "      <td>1200</td>\n",
       "      <td>0</td>\n",
       "      <td>an</td>\n",
       "      <td>0</td>\n",
       "      <td>regular_ll</td>\n",
       "    </tr>\n",
       "    <tr>\n",
       "      <th>14</th>\n",
       "      <td>ecmf</td>\n",
       "      <td>v</td>\n",
       "      <td>isobaricInhPa</td>\n",
       "      <td>400</td>\n",
       "      <td>20180801</td>\n",
       "      <td>1200</td>\n",
       "      <td>0</td>\n",
       "      <td>an</td>\n",
       "      <td>0</td>\n",
       "      <td>regular_ll</td>\n",
       "    </tr>\n",
       "    <tr>\n",
       "      <th>15</th>\n",
       "      <td>ecmf</td>\n",
       "      <td>t</td>\n",
       "      <td>isobaricInhPa</td>\n",
       "      <td>300</td>\n",
       "      <td>20180801</td>\n",
       "      <td>1200</td>\n",
       "      <td>0</td>\n",
       "      <td>an</td>\n",
       "      <td>0</td>\n",
       "      <td>regular_ll</td>\n",
       "    </tr>\n",
       "    <tr>\n",
       "      <th>16</th>\n",
       "      <td>ecmf</td>\n",
       "      <td>u</td>\n",
       "      <td>isobaricInhPa</td>\n",
       "      <td>300</td>\n",
       "      <td>20180801</td>\n",
       "      <td>1200</td>\n",
       "      <td>0</td>\n",
       "      <td>an</td>\n",
       "      <td>0</td>\n",
       "      <td>regular_ll</td>\n",
       "    </tr>\n",
       "    <tr>\n",
       "      <th>17</th>\n",
       "      <td>ecmf</td>\n",
       "      <td>v</td>\n",
       "      <td>isobaricInhPa</td>\n",
       "      <td>300</td>\n",
       "      <td>20180801</td>\n",
       "      <td>1200</td>\n",
       "      <td>0</td>\n",
       "      <td>an</td>\n",
       "      <td>0</td>\n",
       "      <td>regular_ll</td>\n",
       "    </tr>\n",
       "    <tr>\n",
       "      <th>18</th>\n",
       "      <td>ecmf</td>\n",
       "      <td>2t</td>\n",
       "      <td>surface</td>\n",
       "      <td>0</td>\n",
       "      <td>20200513</td>\n",
       "      <td>1200</td>\n",
       "      <td>0</td>\n",
       "      <td>an</td>\n",
       "      <td>0</td>\n",
       "      <td>regular_ll</td>\n",
       "    </tr>\n",
       "    <tr>\n",
       "      <th>19</th>\n",
       "      <td>ecmf</td>\n",
       "      <td>msl</td>\n",
       "      <td>surface</td>\n",
       "      <td>0</td>\n",
       "      <td>20200513</td>\n",
       "      <td>1200</td>\n",
       "      <td>0</td>\n",
       "      <td>an</td>\n",
       "      <td>0</td>\n",
       "      <td>regular_ll</td>\n",
       "    </tr>\n",
       "  </tbody>\n",
       "</table>\n",
       "</div>"
      ],
      "text/plain": [
       "   centre shortName    typeOfLevel  level  dataDate  dataTime stepRange  \\\n",
       "0    ecmf         t  isobaricInhPa   1000  20180801      1200         0   \n",
       "1    ecmf         u  isobaricInhPa   1000  20180801      1200         0   \n",
       "2    ecmf         v  isobaricInhPa   1000  20180801      1200         0   \n",
       "3    ecmf         t  isobaricInhPa    850  20180801      1200         0   \n",
       "4    ecmf         u  isobaricInhPa    850  20180801      1200         0   \n",
       "5    ecmf         v  isobaricInhPa    850  20180801      1200         0   \n",
       "6    ecmf         t  isobaricInhPa    700  20180801      1200         0   \n",
       "7    ecmf         u  isobaricInhPa    700  20180801      1200         0   \n",
       "8    ecmf         v  isobaricInhPa    700  20180801      1200         0   \n",
       "9    ecmf         t  isobaricInhPa    500  20180801      1200         0   \n",
       "10   ecmf         u  isobaricInhPa    500  20180801      1200         0   \n",
       "11   ecmf         v  isobaricInhPa    500  20180801      1200         0   \n",
       "12   ecmf         t  isobaricInhPa    400  20180801      1200         0   \n",
       "13   ecmf         u  isobaricInhPa    400  20180801      1200         0   \n",
       "14   ecmf         v  isobaricInhPa    400  20180801      1200         0   \n",
       "15   ecmf         t  isobaricInhPa    300  20180801      1200         0   \n",
       "16   ecmf         u  isobaricInhPa    300  20180801      1200         0   \n",
       "17   ecmf         v  isobaricInhPa    300  20180801      1200         0   \n",
       "18   ecmf        2t        surface      0  20200513      1200         0   \n",
       "19   ecmf       msl        surface      0  20200513      1200         0   \n",
       "\n",
       "   dataType  number    gridType  \n",
       "0        an       0  regular_ll  \n",
       "1        an       0  regular_ll  \n",
       "2        an       0  regular_ll  \n",
       "3        an       0  regular_ll  \n",
       "4        an       0  regular_ll  \n",
       "5        an       0  regular_ll  \n",
       "6        an       0  regular_ll  \n",
       "7        an       0  regular_ll  \n",
       "8        an       0  regular_ll  \n",
       "9        an       0  regular_ll  \n",
       "10       an       0  regular_ll  \n",
       "11       an       0  regular_ll  \n",
       "12       an       0  regular_ll  \n",
       "13       an       0  regular_ll  \n",
       "14       an       0  regular_ll  \n",
       "15       an       0  regular_ll  \n",
       "16       an       0  regular_ll  \n",
       "17       an       0  regular_ll  \n",
       "18       an       0  regular_ll  \n",
       "19       an       0  regular_ll  "
      ]
     },
     "execution_count": 5,
     "metadata": {},
     "output_type": "execute_result"
    }
   ],
   "source": [
    "fs.ls()"
   ]
  },
  {
   "cell_type": "code",
   "execution_count": 6,
   "metadata": {},
   "outputs": [
    {
     "data": {
      "text/html": [
       "<style type=\"text/css\">\n",
       "#T_6da78 th {\n",
       "  text-align: left;\n",
       "}\n",
       "#T_6da78_row0_col0, #T_6da78_row0_col1, #T_6da78_row0_col2, #T_6da78_row0_col3, #T_6da78_row0_col4, #T_6da78_row0_col5, #T_6da78_row0_col6, #T_6da78_row0_col7, #T_6da78_row0_col8, #T_6da78_row1_col0, #T_6da78_row1_col1, #T_6da78_row1_col2, #T_6da78_row1_col3, #T_6da78_row1_col4, #T_6da78_row1_col5, #T_6da78_row1_col6, #T_6da78_row1_col7, #T_6da78_row1_col8, #T_6da78_row2_col0, #T_6da78_row2_col1, #T_6da78_row2_col2, #T_6da78_row2_col3, #T_6da78_row2_col4, #T_6da78_row2_col5, #T_6da78_row2_col6, #T_6da78_row2_col7, #T_6da78_row2_col8, #T_6da78_row3_col0, #T_6da78_row3_col1, #T_6da78_row3_col2, #T_6da78_row3_col3, #T_6da78_row3_col4, #T_6da78_row3_col5, #T_6da78_row3_col6, #T_6da78_row3_col7, #T_6da78_row3_col8, #T_6da78_row4_col0, #T_6da78_row4_col1, #T_6da78_row4_col2, #T_6da78_row4_col3, #T_6da78_row4_col4, #T_6da78_row4_col5, #T_6da78_row4_col6, #T_6da78_row4_col7, #T_6da78_row4_col8 {\n",
       "  text-align: left;\n",
       "}\n",
       "</style>\n",
       "<table id=\"T_6da78\">\n",
       "  <thead>\n",
       "    <tr>\n",
       "      <th class=\"blank\" >&nbsp;</th>\n",
       "      <th class=\"blank level0\" >&nbsp;</th>\n",
       "      <th id=\"T_6da78_level0_col0\" class=\"col_heading level0 col0\" >level</th>\n",
       "      <th id=\"T_6da78_level0_col1\" class=\"col_heading level0 col1\" >date</th>\n",
       "      <th id=\"T_6da78_level0_col2\" class=\"col_heading level0 col2\" >time</th>\n",
       "      <th id=\"T_6da78_level0_col3\" class=\"col_heading level0 col3\" >step</th>\n",
       "      <th id=\"T_6da78_level0_col4\" class=\"col_heading level0 col4\" >paramId</th>\n",
       "      <th id=\"T_6da78_level0_col5\" class=\"col_heading level0 col5\" >class</th>\n",
       "      <th id=\"T_6da78_level0_col6\" class=\"col_heading level0 col6\" >stream</th>\n",
       "      <th id=\"T_6da78_level0_col7\" class=\"col_heading level0 col7\" >type</th>\n",
       "      <th id=\"T_6da78_level0_col8\" class=\"col_heading level0 col8\" >experimentVersionNumber</th>\n",
       "    </tr>\n",
       "    <tr>\n",
       "      <th class=\"index_name level0\" >shortName</th>\n",
       "      <th class=\"index_name level1\" >typeOfLevel</th>\n",
       "      <th class=\"blank col0\" >&nbsp;</th>\n",
       "      <th class=\"blank col1\" >&nbsp;</th>\n",
       "      <th class=\"blank col2\" >&nbsp;</th>\n",
       "      <th class=\"blank col3\" >&nbsp;</th>\n",
       "      <th class=\"blank col4\" >&nbsp;</th>\n",
       "      <th class=\"blank col5\" >&nbsp;</th>\n",
       "      <th class=\"blank col6\" >&nbsp;</th>\n",
       "      <th class=\"blank col7\" >&nbsp;</th>\n",
       "      <th class=\"blank col8\" >&nbsp;</th>\n",
       "    </tr>\n",
       "  </thead>\n",
       "  <tbody>\n",
       "    <tr>\n",
       "      <th id=\"T_6da78_level0_row0\" class=\"row_heading level0 row0\" >2t</th>\n",
       "      <th id=\"T_6da78_level1_row0\" class=\"row_heading level1 row0\" >surface</th>\n",
       "      <td id=\"T_6da78_row0_col0\" class=\"data row0 col0\" >0</td>\n",
       "      <td id=\"T_6da78_row0_col1\" class=\"data row0 col1\" >20200513</td>\n",
       "      <td id=\"T_6da78_row0_col2\" class=\"data row0 col2\" >1200</td>\n",
       "      <td id=\"T_6da78_row0_col3\" class=\"data row0 col3\" >0</td>\n",
       "      <td id=\"T_6da78_row0_col4\" class=\"data row0 col4\" >167</td>\n",
       "      <td id=\"T_6da78_row0_col5\" class=\"data row0 col5\" >od</td>\n",
       "      <td id=\"T_6da78_row0_col6\" class=\"data row0 col6\" >oper</td>\n",
       "      <td id=\"T_6da78_row0_col7\" class=\"data row0 col7\" >an</td>\n",
       "      <td id=\"T_6da78_row0_col8\" class=\"data row0 col8\" >0001</td>\n",
       "    </tr>\n",
       "    <tr>\n",
       "      <th id=\"T_6da78_level0_row1\" class=\"row_heading level0 row1\" >msl</th>\n",
       "      <th id=\"T_6da78_level1_row1\" class=\"row_heading level1 row1\" >surface</th>\n",
       "      <td id=\"T_6da78_row1_col0\" class=\"data row1 col0\" >0</td>\n",
       "      <td id=\"T_6da78_row1_col1\" class=\"data row1 col1\" >20200513</td>\n",
       "      <td id=\"T_6da78_row1_col2\" class=\"data row1 col2\" >1200</td>\n",
       "      <td id=\"T_6da78_row1_col3\" class=\"data row1 col3\" >0</td>\n",
       "      <td id=\"T_6da78_row1_col4\" class=\"data row1 col4\" >151</td>\n",
       "      <td id=\"T_6da78_row1_col5\" class=\"data row1 col5\" >od</td>\n",
       "      <td id=\"T_6da78_row1_col6\" class=\"data row1 col6\" >oper</td>\n",
       "      <td id=\"T_6da78_row1_col7\" class=\"data row1 col7\" >an</td>\n",
       "      <td id=\"T_6da78_row1_col8\" class=\"data row1 col8\" >0001</td>\n",
       "    </tr>\n",
       "    <tr>\n",
       "      <th id=\"T_6da78_level0_row2\" class=\"row_heading level0 row2\" >t</th>\n",
       "      <th id=\"T_6da78_level1_row2\" class=\"row_heading level1 row2\" >isobaricInhPa</th>\n",
       "      <td id=\"T_6da78_row2_col0\" class=\"data row2 col0\" >1000,300,...</td>\n",
       "      <td id=\"T_6da78_row2_col1\" class=\"data row2 col1\" >20180801</td>\n",
       "      <td id=\"T_6da78_row2_col2\" class=\"data row2 col2\" >1200</td>\n",
       "      <td id=\"T_6da78_row2_col3\" class=\"data row2 col3\" >0</td>\n",
       "      <td id=\"T_6da78_row2_col4\" class=\"data row2 col4\" >130</td>\n",
       "      <td id=\"T_6da78_row2_col5\" class=\"data row2 col5\" >od</td>\n",
       "      <td id=\"T_6da78_row2_col6\" class=\"data row2 col6\" >oper</td>\n",
       "      <td id=\"T_6da78_row2_col7\" class=\"data row2 col7\" >an</td>\n",
       "      <td id=\"T_6da78_row2_col8\" class=\"data row2 col8\" >0001</td>\n",
       "    </tr>\n",
       "    <tr>\n",
       "      <th id=\"T_6da78_level0_row3\" class=\"row_heading level0 row3\" >u</th>\n",
       "      <th id=\"T_6da78_level1_row3\" class=\"row_heading level1 row3\" >isobaricInhPa</th>\n",
       "      <td id=\"T_6da78_row3_col0\" class=\"data row3 col0\" >1000,300,...</td>\n",
       "      <td id=\"T_6da78_row3_col1\" class=\"data row3 col1\" >20180801</td>\n",
       "      <td id=\"T_6da78_row3_col2\" class=\"data row3 col2\" >1200</td>\n",
       "      <td id=\"T_6da78_row3_col3\" class=\"data row3 col3\" >0</td>\n",
       "      <td id=\"T_6da78_row3_col4\" class=\"data row3 col4\" >131</td>\n",
       "      <td id=\"T_6da78_row3_col5\" class=\"data row3 col5\" >od</td>\n",
       "      <td id=\"T_6da78_row3_col6\" class=\"data row3 col6\" >oper</td>\n",
       "      <td id=\"T_6da78_row3_col7\" class=\"data row3 col7\" >an</td>\n",
       "      <td id=\"T_6da78_row3_col8\" class=\"data row3 col8\" >0001</td>\n",
       "    </tr>\n",
       "    <tr>\n",
       "      <th id=\"T_6da78_level0_row4\" class=\"row_heading level0 row4\" >v</th>\n",
       "      <th id=\"T_6da78_level1_row4\" class=\"row_heading level1 row4\" >isobaricInhPa</th>\n",
       "      <td id=\"T_6da78_row4_col0\" class=\"data row4 col0\" >1000,300,...</td>\n",
       "      <td id=\"T_6da78_row4_col1\" class=\"data row4 col1\" >20180801</td>\n",
       "      <td id=\"T_6da78_row4_col2\" class=\"data row4 col2\" >1200</td>\n",
       "      <td id=\"T_6da78_row4_col3\" class=\"data row4 col3\" >0</td>\n",
       "      <td id=\"T_6da78_row4_col4\" class=\"data row4 col4\" >132</td>\n",
       "      <td id=\"T_6da78_row4_col5\" class=\"data row4 col5\" >od</td>\n",
       "      <td id=\"T_6da78_row4_col6\" class=\"data row4 col6\" >oper</td>\n",
       "      <td id=\"T_6da78_row4_col7\" class=\"data row4 col7\" >an</td>\n",
       "      <td id=\"T_6da78_row4_col8\" class=\"data row4 col8\" >0001</td>\n",
       "    </tr>\n",
       "  </tbody>\n",
       "</table>\n"
      ],
      "text/plain": [
       "<pandas.io.formats.style.Styler at 0x11bb87910>"
      ]
     },
     "execution_count": 6,
     "metadata": {},
     "output_type": "execute_result"
    }
   ],
   "source": [
    "fs.describe()"
   ]
  },
  {
   "cell_type": "code",
   "execution_count": 7,
   "metadata": {},
   "outputs": [
    {
     "data": {
      "text/plain": [
       "GribField(u,1000,20180801,1200,0,0)"
      ]
     },
     "execution_count": 7,
     "metadata": {},
     "output_type": "execute_result"
    }
   ],
   "source": [
    "fs[1]"
   ]
  },
  {
   "cell_type": "code",
   "execution_count": 8,
   "metadata": {},
   "outputs": [
    {
     "data": {
      "text/plain": [
       "GribField(msl,None,20200513,1200,0,0)"
      ]
     },
     "execution_count": 8,
     "metadata": {},
     "output_type": "execute_result"
    }
   ],
   "source": [
    "fs[-1]"
   ]
  },
  {
   "cell_type": "code",
   "execution_count": 9,
   "metadata": {},
   "outputs": [
    {
     "data": {
      "text/plain": [
       "emohawk.readers.grib.index.MaskFieldSet"
      ]
     },
     "execution_count": 9,
     "metadata": {},
     "output_type": "execute_result"
    }
   ],
   "source": [
    "g = fs[2:4]\n",
    "type(g)"
   ]
  },
  {
   "cell_type": "code",
   "execution_count": 10,
   "metadata": {},
   "outputs": [
    {
     "data": {
      "text/html": [
       "<div>\n",
       "<style scoped>\n",
       "    .dataframe tbody tr th:only-of-type {\n",
       "        vertical-align: middle;\n",
       "    }\n",
       "\n",
       "    .dataframe tbody tr th {\n",
       "        vertical-align: top;\n",
       "    }\n",
       "\n",
       "    .dataframe thead th {\n",
       "        text-align: right;\n",
       "    }\n",
       "</style>\n",
       "<table border=\"1\" class=\"dataframe\">\n",
       "  <thead>\n",
       "    <tr style=\"text-align: right;\">\n",
       "      <th></th>\n",
       "      <th>centre</th>\n",
       "      <th>shortName</th>\n",
       "      <th>typeOfLevel</th>\n",
       "      <th>level</th>\n",
       "      <th>dataDate</th>\n",
       "      <th>dataTime</th>\n",
       "      <th>stepRange</th>\n",
       "      <th>dataType</th>\n",
       "      <th>number</th>\n",
       "      <th>gridType</th>\n",
       "    </tr>\n",
       "  </thead>\n",
       "  <tbody>\n",
       "    <tr>\n",
       "      <th>0</th>\n",
       "      <td>ecmf</td>\n",
       "      <td>v</td>\n",
       "      <td>isobaricInhPa</td>\n",
       "      <td>1000</td>\n",
       "      <td>20180801</td>\n",
       "      <td>1200</td>\n",
       "      <td>0</td>\n",
       "      <td>an</td>\n",
       "      <td>0</td>\n",
       "      <td>regular_ll</td>\n",
       "    </tr>\n",
       "    <tr>\n",
       "      <th>1</th>\n",
       "      <td>ecmf</td>\n",
       "      <td>t</td>\n",
       "      <td>isobaricInhPa</td>\n",
       "      <td>850</td>\n",
       "      <td>20180801</td>\n",
       "      <td>1200</td>\n",
       "      <td>0</td>\n",
       "      <td>an</td>\n",
       "      <td>0</td>\n",
       "      <td>regular_ll</td>\n",
       "    </tr>\n",
       "  </tbody>\n",
       "</table>\n",
       "</div>"
      ],
      "text/plain": [
       "  centre shortName    typeOfLevel  level  dataDate  dataTime stepRange  \\\n",
       "0   ecmf         v  isobaricInhPa   1000  20180801      1200         0   \n",
       "1   ecmf         t  isobaricInhPa    850  20180801      1200         0   \n",
       "\n",
       "  dataType  number    gridType  \n",
       "0       an       0  regular_ll  \n",
       "1       an       0  regular_ll  "
      ]
     },
     "execution_count": 10,
     "metadata": {},
     "output_type": "execute_result"
    }
   ],
   "source": [
    "g.ls()"
   ]
  },
  {
   "cell_type": "code",
   "execution_count": 11,
   "metadata": {},
   "outputs": [
    {
     "data": {
      "text/plain": [
       "emohawk.readers.grib.index.FieldsetInFilesWithSqlIndex"
      ]
     },
     "execution_count": 11,
     "metadata": {},
     "output_type": "execute_result"
    }
   ],
   "source": [
    "a = fs.sel(level=500)\n",
    "type(a)"
   ]
  },
  {
   "cell_type": "code",
   "execution_count": 12,
   "metadata": {},
   "outputs": [
    {
     "data": {
      "text/html": [
       "<div>\n",
       "<style scoped>\n",
       "    .dataframe tbody tr th:only-of-type {\n",
       "        vertical-align: middle;\n",
       "    }\n",
       "\n",
       "    .dataframe tbody tr th {\n",
       "        vertical-align: top;\n",
       "    }\n",
       "\n",
       "    .dataframe thead th {\n",
       "        text-align: right;\n",
       "    }\n",
       "</style>\n",
       "<table border=\"1\" class=\"dataframe\">\n",
       "  <thead>\n",
       "    <tr style=\"text-align: right;\">\n",
       "      <th></th>\n",
       "      <th>centre</th>\n",
       "      <th>shortName</th>\n",
       "      <th>typeOfLevel</th>\n",
       "      <th>level</th>\n",
       "      <th>dataDate</th>\n",
       "      <th>dataTime</th>\n",
       "      <th>stepRange</th>\n",
       "      <th>dataType</th>\n",
       "      <th>number</th>\n",
       "      <th>gridType</th>\n",
       "    </tr>\n",
       "  </thead>\n",
       "  <tbody>\n",
       "    <tr>\n",
       "      <th>0</th>\n",
       "      <td>ecmf</td>\n",
       "      <td>t</td>\n",
       "      <td>isobaricInhPa</td>\n",
       "      <td>500</td>\n",
       "      <td>20180801</td>\n",
       "      <td>1200</td>\n",
       "      <td>0</td>\n",
       "      <td>an</td>\n",
       "      <td>0</td>\n",
       "      <td>regular_ll</td>\n",
       "    </tr>\n",
       "    <tr>\n",
       "      <th>1</th>\n",
       "      <td>ecmf</td>\n",
       "      <td>u</td>\n",
       "      <td>isobaricInhPa</td>\n",
       "      <td>500</td>\n",
       "      <td>20180801</td>\n",
       "      <td>1200</td>\n",
       "      <td>0</td>\n",
       "      <td>an</td>\n",
       "      <td>0</td>\n",
       "      <td>regular_ll</td>\n",
       "    </tr>\n",
       "    <tr>\n",
       "      <th>2</th>\n",
       "      <td>ecmf</td>\n",
       "      <td>v</td>\n",
       "      <td>isobaricInhPa</td>\n",
       "      <td>500</td>\n",
       "      <td>20180801</td>\n",
       "      <td>1200</td>\n",
       "      <td>0</td>\n",
       "      <td>an</td>\n",
       "      <td>0</td>\n",
       "      <td>regular_ll</td>\n",
       "    </tr>\n",
       "  </tbody>\n",
       "</table>\n",
       "</div>"
      ],
      "text/plain": [
       "  centre shortName    typeOfLevel  level  dataDate  dataTime stepRange  \\\n",
       "0   ecmf         t  isobaricInhPa    500  20180801      1200         0   \n",
       "1   ecmf         u  isobaricInhPa    500  20180801      1200         0   \n",
       "2   ecmf         v  isobaricInhPa    500  20180801      1200         0   \n",
       "\n",
       "  dataType  number    gridType  \n",
       "0       an       0  regular_ll  \n",
       "1       an       0  regular_ll  \n",
       "2       an       0  regular_ll  "
      ]
     },
     "execution_count": 12,
     "metadata": {},
     "output_type": "execute_result"
    }
   ],
   "source": [
    "a.ls()"
   ]
  },
  {
   "cell_type": "code",
   "execution_count": 13,
   "metadata": {},
   "outputs": [
    {
     "data": {
      "text/plain": [
       "emohawk.readers.grib.index.FieldsetInFilesWithSqlIndex"
      ]
     },
     "execution_count": 13,
     "metadata": {},
     "output_type": "execute_result"
    }
   ],
   "source": [
    "fs.order_by(\"shortName\")\n",
    "type(fs)"
   ]
  },
  {
   "cell_type": "code",
   "execution_count": 14,
   "metadata": {},
   "outputs": [
    {
     "data": {
      "text/plain": [
       "'andate=None, anoffset=None, antime=None, channel=None, class=od, date=20180801, diagnostic=None, direction=None, domain=g, expver=0001, fcmonth=None, fcperiod=None, frequency=None, hdate=None, ident=None, instrument=None, iteration=None, leadtime=None, levelist=500, levtype=pl, method=None, number=None, obstype=None, opttime=None, origin=None, param=[t, u, v], quantile=None, range=None, reference=None, reportype=None, step=0, stream=oper, time=1200, type=an, verify=None\\n'"
      ]
     },
     "execution_count": 14,
     "metadata": {},
     "output_type": "execute_result"
    }
   ],
   "source": [
    "a.availability"
   ]
  },
  {
   "cell_type": "code",
   "execution_count": null,
   "metadata": {},
   "outputs": [],
   "source": []
  }
 ],
 "metadata": {
  "kernelspec": {
   "display_name": "mpy38",
   "language": "python",
   "name": "mpy38"
  },
  "language_info": {
   "codemirror_mode": {
    "name": "ipython",
    "version": 3
   },
   "file_extension": ".py",
   "mimetype": "text/x-python",
   "name": "python",
   "nbconvert_exporter": "python",
   "pygments_lexer": "ipython3",
   "version": "3.8.16"
  }
 },
 "nbformat": 4,
 "nbformat_minor": 4
}
